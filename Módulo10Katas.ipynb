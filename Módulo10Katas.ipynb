{
  "cells": [
    {
      "cell_type": "markdown",
      "metadata": {},
      "source": [
        "# Generación de excepciones"
      ]
    },
    {
      "cell_type": "markdown",
      "metadata": {},
      "source": [
        "Los astronautas limitan su uso de agua a unos 11 litros al día. Vamos a crear una función que, con base al número de astronautas, pueda calcular la cantidad de agua quedará después de un día o más:"
      ]
    },
    {
      "cell_type": "code",
      "execution_count": null,
      "metadata": {},
      "outputs": [],
      "source": [
        "def water_left(astronauts, water_left, days_left):\n",
        "    daily_usage = astronauts * 11\n",
        "    total_usage = daily_usage * days_left\n",
        "    total_water_left = water_left - total_usage\n",
        "    return f\"Total water left after {days_left} days is: {total_water_left} liters\""
      ]
    },
    {
      "cell_type": "markdown",
      "metadata": {},
      "source": [
        "Probemos con cinco astronautas, 100 litros de agua sobrante y dos días:"
      ]
    },
    {
      "cell_type": "code",
      "execution_count": null,
      "metadata": {},
      "outputs": [],
      "source": [
        "print(water_left(5, 100, 2))\n"
      ]
    },
    {
      "cell_type": "markdown",
      "metadata": {},
      "source": [
        "Esto no es muy útil, ya que una carencia en los litros sería un error. Después, el sistema de navegación podría alertar a los astronautas que no habrá suficiente agua para todos en dos días. Si eres un ingeniero(a) que programa el sistema de navegación, podrías generar una excepción en la función water_left() para alertar de la condición de error:"
      ]
    },
    {
      "cell_type": "code",
      "execution_count": 12,
      "metadata": {},
      "outputs": [],
      "source": [
        "def water_left(astronauts, water_left, days_left):\n",
        "    daily_usage = astronauts * 11\n",
        "    total_usage = daily_usage * days_left\n",
        "    total_water_left = water_left - total_usage\n",
        "    if total_water_left < 0:\n",
        "        raise RuntimeError(f\"There is not enough water for {astronauts} astronauts after {days_left} days!\")\n",
        "    return f\"Total water left after {days_left} days is: {total_water_left} liters\""
      ]
    },
    {
      "cell_type": "markdown",
      "metadata": {},
      "source": [
        "Ahora volvemos a ejecutarlo"
      ]
    },
    {
      "cell_type": "code",
      "execution_count": 13,
      "metadata": {},
      "outputs": [
        {
          "ename": "RuntimeError",
          "evalue": "There is not enough water for 5 astronauts after 2 days!",
          "output_type": "error",
          "traceback": [
            "\u001b[1;31m---------------------------------------------------------------------------\u001b[0m",
            "\u001b[1;31mRuntimeError\u001b[0m                              Traceback (most recent call last)",
            "\u001b[1;32mc:\\Users\\DELL\\Desktop\\LaunchX\\Katas\\Módulo10Katas.ipynb Cell 9'\u001b[0m in \u001b[0;36m<module>\u001b[1;34m\u001b[0m\n\u001b[1;32m----> <a href='vscode-notebook-cell:/c%3A/Users/DELL/Desktop/LaunchX/Katas/M%C3%B3dulo10Katas.ipynb#ch0000038?line=0'>1</a>\u001b[0m \u001b[39mprint\u001b[39m(water_left(\u001b[39m5\u001b[39;49m, \u001b[39m100\u001b[39;49m, \u001b[39m2\u001b[39;49m))\n",
            "\u001b[1;32mc:\\Users\\DELL\\Desktop\\LaunchX\\Katas\\Módulo10Katas.ipynb Cell 7'\u001b[0m in \u001b[0;36mwater_left\u001b[1;34m(astronauts, water_left, days_left)\u001b[0m\n\u001b[0;32m      <a href='vscode-notebook-cell:/c%3A/Users/DELL/Desktop/LaunchX/Katas/M%C3%B3dulo10Katas.ipynb#ch0000036?line=3'>4</a>\u001b[0m total_water_left \u001b[39m=\u001b[39m water_left \u001b[39m-\u001b[39m total_usage\n\u001b[0;32m      <a href='vscode-notebook-cell:/c%3A/Users/DELL/Desktop/LaunchX/Katas/M%C3%B3dulo10Katas.ipynb#ch0000036?line=4'>5</a>\u001b[0m \u001b[39mif\u001b[39;00m total_water_left \u001b[39m<\u001b[39m \u001b[39m0\u001b[39m:\n\u001b[1;32m----> <a href='vscode-notebook-cell:/c%3A/Users/DELL/Desktop/LaunchX/Katas/M%C3%B3dulo10Katas.ipynb#ch0000036?line=5'>6</a>\u001b[0m     \u001b[39mraise\u001b[39;00m \u001b[39mRuntimeError\u001b[39;00m(\u001b[39mf\u001b[39m\u001b[39m\"\u001b[39m\u001b[39mThere is not enough water for \u001b[39m\u001b[39m{\u001b[39;00mastronauts\u001b[39m}\u001b[39;00m\u001b[39m astronauts after \u001b[39m\u001b[39m{\u001b[39;00mdays_left\u001b[39m}\u001b[39;00m\u001b[39m days!\u001b[39m\u001b[39m\"\u001b[39m)\n\u001b[0;32m      <a href='vscode-notebook-cell:/c%3A/Users/DELL/Desktop/LaunchX/Katas/M%C3%B3dulo10Katas.ipynb#ch0000036?line=6'>7</a>\u001b[0m \u001b[39mreturn\u001b[39;00m \u001b[39mf\u001b[39m\u001b[39m\"\u001b[39m\u001b[39mTotal water left after \u001b[39m\u001b[39m{\u001b[39;00mdays_left\u001b[39m}\u001b[39;00m\u001b[39m days is: \u001b[39m\u001b[39m{\u001b[39;00mtotal_water_left\u001b[39m}\u001b[39;00m\u001b[39m liters\u001b[39m\u001b[39m\"\u001b[39m\n",
            "\u001b[1;31mRuntimeError\u001b[0m: There is not enough water for 5 astronauts after 2 days!"
          ]
        }
      ],
      "source": [
        "print(water_left(5, 100, 2))\n"
      ]
    },
    {
      "cell_type": "markdown",
      "metadata": {},
      "source": [
        "El error de TypeError no es muy descriptivo en el contexto de lo que espera la función. Actualizaremos la función para que use TypeError, pero con un mensaje mejor:"
      ]
    },
    {
      "cell_type": "code",
      "execution_count": 14,
      "metadata": {},
      "outputs": [],
      "source": [
        "def water_left(astronauts, water_left, days_left):\n",
        "    for argument in [astronauts, water_left, days_left]:\n",
        "        try:\n",
        "            # If argument is an int, the following operation will work\n",
        "            argument / 10\n",
        "        except TypeError:\n",
        "            # TypError will be raised only if it isn't the right type \n",
        "            # Raise the same exception but with a better error message\n",
        "            raise TypeError(f\"All arguments must be of type int, but received: '{argument}'\")\n",
        "    daily_usage = astronauts * 11\n",
        "    total_usage = daily_usage * days_left\n",
        "    total_water_left = water_left - total_usage\n",
        "    if total_water_left < 0:\n",
        "        raise RuntimeError(f\"There is not enough water for {astronauts} astronauts after {days_left} days!\")\n",
        "    return f\"Total water left after {days_left} days is: {total_water_left} liters\""
      ]
    },
    {
      "cell_type": "code",
      "execution_count": 16,
      "metadata": {},
      "outputs": [
        {
          "ename": "TypeError",
          "evalue": "All arguments must be of type int, but received: 'None'",
          "output_type": "error",
          "traceback": [
            "\u001b[1;31m---------------------------------------------------------------------------\u001b[0m",
            "\u001b[1;31mTypeError\u001b[0m                                 Traceback (most recent call last)",
            "\u001b[1;32mc:\\Users\\DELL\\Desktop\\LaunchX\\Katas\\Módulo10Katas.ipynb Cell 11'\u001b[0m in \u001b[0;36mwater_left\u001b[1;34m(astronauts, water_left, days_left)\u001b[0m\n\u001b[0;32m      <a href='vscode-notebook-cell:/c%3A/Users/DELL/Desktop/LaunchX/Katas/M%C3%B3dulo10Katas.ipynb#ch0000041?line=2'>3</a>\u001b[0m \u001b[39mtry\u001b[39;00m:\n\u001b[0;32m      <a href='vscode-notebook-cell:/c%3A/Users/DELL/Desktop/LaunchX/Katas/M%C3%B3dulo10Katas.ipynb#ch0000041?line=3'>4</a>\u001b[0m     \u001b[39m# If argument is an int, the following operation will work\u001b[39;00m\n\u001b[1;32m----> <a href='vscode-notebook-cell:/c%3A/Users/DELL/Desktop/LaunchX/Katas/M%C3%B3dulo10Katas.ipynb#ch0000041?line=4'>5</a>\u001b[0m     argument \u001b[39m/\u001b[39;49m \u001b[39m10\u001b[39;49m\n\u001b[0;32m      <a href='vscode-notebook-cell:/c%3A/Users/DELL/Desktop/LaunchX/Katas/M%C3%B3dulo10Katas.ipynb#ch0000041?line=5'>6</a>\u001b[0m \u001b[39mexcept\u001b[39;00m \u001b[39mTypeError\u001b[39;00m:\n\u001b[0;32m      <a href='vscode-notebook-cell:/c%3A/Users/DELL/Desktop/LaunchX/Katas/M%C3%B3dulo10Katas.ipynb#ch0000041?line=6'>7</a>\u001b[0m     \u001b[39m# TypError will be raised only if it isn't the right type \u001b[39;00m\n\u001b[0;32m      <a href='vscode-notebook-cell:/c%3A/Users/DELL/Desktop/LaunchX/Katas/M%C3%B3dulo10Katas.ipynb#ch0000041?line=7'>8</a>\u001b[0m     \u001b[39m# Raise the same exception but with a better error message\u001b[39;00m\n",
            "\u001b[1;31mTypeError\u001b[0m: unsupported operand type(s) for /: 'NoneType' and 'int'",
            "\nDuring handling of the above exception, another exception occurred:\n",
            "\u001b[1;31mTypeError\u001b[0m                                 Traceback (most recent call last)",
            "\u001b[1;32mc:\\Users\\DELL\\Desktop\\LaunchX\\Katas\\Módulo10Katas.ipynb Cell 12'\u001b[0m in \u001b[0;36m<module>\u001b[1;34m\u001b[0m\n\u001b[1;32m----> <a href='vscode-notebook-cell:/c%3A/Users/DELL/Desktop/LaunchX/Katas/M%C3%B3dulo10Katas.ipynb#ch0000042?line=0'>1</a>\u001b[0m \u001b[39mprint\u001b[39m(water_left(\u001b[39m3\u001b[39;49m,\u001b[39m200\u001b[39;49m,\u001b[39mNone\u001b[39;49;00m))\n",
            "\u001b[1;32mc:\\Users\\DELL\\Desktop\\LaunchX\\Katas\\Módulo10Katas.ipynb Cell 11'\u001b[0m in \u001b[0;36mwater_left\u001b[1;34m(astronauts, water_left, days_left)\u001b[0m\n\u001b[0;32m      <a href='vscode-notebook-cell:/c%3A/Users/DELL/Desktop/LaunchX/Katas/M%C3%B3dulo10Katas.ipynb#ch0000041?line=4'>5</a>\u001b[0m         argument \u001b[39m/\u001b[39m \u001b[39m10\u001b[39m\n\u001b[0;32m      <a href='vscode-notebook-cell:/c%3A/Users/DELL/Desktop/LaunchX/Katas/M%C3%B3dulo10Katas.ipynb#ch0000041?line=5'>6</a>\u001b[0m     \u001b[39mexcept\u001b[39;00m \u001b[39mTypeError\u001b[39;00m:\n\u001b[0;32m      <a href='vscode-notebook-cell:/c%3A/Users/DELL/Desktop/LaunchX/Katas/M%C3%B3dulo10Katas.ipynb#ch0000041?line=6'>7</a>\u001b[0m         \u001b[39m# TypError will be raised only if it isn't the right type \u001b[39;00m\n\u001b[0;32m      <a href='vscode-notebook-cell:/c%3A/Users/DELL/Desktop/LaunchX/Katas/M%C3%B3dulo10Katas.ipynb#ch0000041?line=7'>8</a>\u001b[0m         \u001b[39m# Raise the same exception but with a better error message\u001b[39;00m\n\u001b[1;32m----> <a href='vscode-notebook-cell:/c%3A/Users/DELL/Desktop/LaunchX/Katas/M%C3%B3dulo10Katas.ipynb#ch0000041?line=8'>9</a>\u001b[0m         \u001b[39mraise\u001b[39;00m \u001b[39mTypeError\u001b[39;00m(\u001b[39mf\u001b[39m\u001b[39m\"\u001b[39m\u001b[39mAll arguments must be of type int, but received: \u001b[39m\u001b[39m'\u001b[39m\u001b[39m{\u001b[39;00margument\u001b[39m}\u001b[39;00m\u001b[39m'\u001b[39m\u001b[39m\"\u001b[39m)\n\u001b[0;32m     <a href='vscode-notebook-cell:/c%3A/Users/DELL/Desktop/LaunchX/Katas/M%C3%B3dulo10Katas.ipynb#ch0000041?line=9'>10</a>\u001b[0m daily_usage \u001b[39m=\u001b[39m astronauts \u001b[39m*\u001b[39m \u001b[39m11\u001b[39m\n\u001b[0;32m     <a href='vscode-notebook-cell:/c%3A/Users/DELL/Desktop/LaunchX/Katas/M%C3%B3dulo10Katas.ipynb#ch0000041?line=10'>11</a>\u001b[0m total_usage \u001b[39m=\u001b[39m daily_usage \u001b[39m*\u001b[39m days_left\n",
            "\u001b[1;31mTypeError\u001b[0m: All arguments must be of type int, but received: 'None'"
          ]
        }
      ],
      "source": [
        "print(water_left(3,200,None))"
      ]
    }
  ],
  "metadata": {
    "interpreter": {
      "hash": "b8bdd4e700647ba2b08c59e5df8b7da1dcf50a218bcd4c1bcd9b3dc92e8788e5"
    },
    "kernelspec": {
      "display_name": "Python 3.9.1 64-bit",
      "name": "python3"
    },
    "language_info": {
      "codemirror_mode": {
        "name": "ipython",
        "version": 3
      },
      "file_extension": ".py",
      "mimetype": "text/x-python",
      "name": "python",
      "nbconvert_exporter": "python",
      "pygments_lexer": "ipython3",
      "version": "3.10.2"
    },
    "nteract": {
      "version": "nteract-front-end@1.0.0"
    }
  },
  "nbformat": 4,
  "nbformat_minor": 4
}
